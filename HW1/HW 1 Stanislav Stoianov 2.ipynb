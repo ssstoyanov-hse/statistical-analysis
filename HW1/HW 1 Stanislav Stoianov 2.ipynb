{
 "cells": [
  {
   "cell_type": "markdown",
   "source": [
    "#### Станислав Стоянов, 2 группа майнора, 19ПИ-1 группа образовательной программы"
   ],
   "metadata": {
    "collapsed": false
   }
  },
  {
   "cell_type": "markdown",
   "source": [
    "#### Задание\n",
    "##### Создать массив целых случайных чисел в диапазоне от 0 до 100. размер массива 500. Найти среднее, минимум, максиму, медиану, дисперсию, среднеквадратичное отклонение, перцентиль (20, 40, 60, 70, 90 ). Аналогично выполнить для массива случайных, но не целых чисел в том же диапазоне. Будут ли эти значения отличаться и почему?"
   ],
   "metadata": {
    "collapsed": false
   }
  },
  {
   "cell_type": "code",
   "execution_count": 9,
   "outputs": [],
   "source": [
    "import numpy as np"
   ],
   "metadata": {
    "collapsed": false,
    "pycharm": {
     "name": "#%%\n"
    }
   }
  },
  {
   "cell_type": "code",
   "execution_count": 10,
   "outputs": [],
   "source": [
    "def fun(array: np.ndarray):\n",
    "    print(\"Среднее: \", np.mean(array))\n",
    "    print(\"Минимум: \", np.amin(array))\n",
    "    print(\"Максимум: \", np.amax(array))\n",
    "    print(\"Медиана: \", np.median(array))\n",
    "    print(\"Дисперсия: \", np.var(array))\n",
    "    print(\"Отклонение: \", np.std(array))\n",
    "    print(\"Перцентили: \", np.percentile(array, q = [20, 40, 60, 70, 90]))"
   ],
   "metadata": {
    "collapsed": false,
    "pycharm": {
     "name": "#%%\n"
    }
   }
  },
  {
   "cell_type": "markdown",
   "source": [
    "##### Для массива целых случайных чисел"
   ],
   "metadata": {
    "collapsed": false
   }
  },
  {
   "cell_type": "code",
   "execution_count": 11,
   "outputs": [
    {
     "name": "stdout",
     "output_type": "stream",
     "text": [
      "Среднее:  48.908\n",
      "Минимум:  0\n",
      "Максимум:  99\n",
      "Медиана:  48.0\n",
      "Дисперсия:  780.3915360000001\n",
      "Отклонение:  27.9354888269384\n",
      "Перцентили:  [20. 39. 57. 67. 88.]\n"
     ]
    }
   ],
   "source": [
    "a = np.random.randint(100, size = (500))\n",
    "fun(a)\n"
   ],
   "metadata": {
    "collapsed": false,
    "pycharm": {
     "name": "#%%\n"
    }
   }
  },
  {
   "cell_type": "markdown",
   "source": [
    "##### Для массив дробных случайных чисел"
   ],
   "metadata": {
    "collapsed": false
   }
  },
  {
   "cell_type": "code",
   "execution_count": 12,
   "outputs": [
    {
     "name": "stdout",
     "output_type": "stream",
     "text": [
      "Среднее:  50.79589788717792\n",
      "Минимум:  0.026074236960937913\n",
      "Максимум:  99.59158113030365\n",
      "Медиана:  51.754589104517905\n",
      "Дисперсия:  859.725237816149\n",
      "Отклонение:  29.32107156664212\n",
      "Перцентили:  [19.4366146  41.49857804 62.36601849 71.62583167 90.28130217]\n"
     ]
    }
   ],
   "source": [
    "b = np.random.uniform(0.0, 100.0, size = 500)\n",
    "fun(b)"
   ],
   "metadata": {
    "collapsed": false,
    "pycharm": {
     "name": "#%%\n"
    }
   }
  },
  {
   "cell_type": "markdown",
   "source": [
    "#### Ответ на вопрос:\n",
    "\n",
    "##### В частности, значения (дисперсия, перцентиль, etc) двух выборок будут отличаться друг от друга, но не более чем на проценты. Это происходит из-за того, что обе выборки были взяты из одного интервала с равномерным распределением.\n",
    "\n",
    "\n"
   ],
   "metadata": {
    "collapsed": false,
    "pycharm": {
     "name": "#%% md\n"
    }
   }
  }
 ],
 "metadata": {
  "kernelspec": {
   "name": "python3",
   "language": "python",
   "display_name": "Python 3"
  },
  "language_info": {
   "codemirror_mode": {
    "name": "ipython",
    "version": 3
   },
   "file_extension": ".py",
   "mimetype": "text/x-python",
   "name": "python",
   "nbconvert_exporter": "python",
   "pygments_lexer": "ipython3",
   "version": "3.8.5"
  }
 },
 "nbformat": 4,
 "nbformat_minor": 4
}