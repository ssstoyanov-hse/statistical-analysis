{
 "cells": [
  {
   "cell_type": "markdown",
   "source": [
    "#### Станислав Стоянов, 2 группа майнора, 19ПИ-1 группа образовательной программы"
   ],
   "metadata": {
    "collapsed": false
   }
  },
  {
   "cell_type": "markdown",
   "source": [
    "#### Задание\n",
    "##### Создать массив целых случайных чисел в диапазоне от 0 до 100. размер массива 500. Найти среднее, минимум, максиму, медиану, дисперсию, среднеквадратичное отклонение, перцентиль (20, 40, 60, 70, 90 ). Аналогично выполнить для массива случайных, но не целых чисел в том же диапазоне. Будут ли эти значения отличаться и почему?"
   ],
   "metadata": {
    "collapsed": false
   }
  },
  {
   "cell_type": "code",
   "execution_count": 77,
   "outputs": [],
   "source": [
    "import numpy as np"
   ],
   "metadata": {
    "collapsed": false,
    "pycharm": {
     "name": "#%%\n"
    }
   }
  },
  {
   "cell_type": "code",
   "execution_count": 78,
   "outputs": [],
   "source": [
    "def fun(array: np.ndarray):\n",
    "    print(\"Среднее: \", np.mean(array))\n",
    "    print(\"Минимум: \", np.amin(array))\n",
    "    print(\"Максимум: \", np.amax(array))\n",
    "    print(\"Медиана: \", np.median(array))\n",
    "    print(\"Дисперсия: \", np.var(array))\n",
    "    print(\"Отклонение: \", np.std(array))\n",
    "    print(\"Перцентили: \", np.percentile(array, q = [20, 40, 60, 70, 90]))"
   ],
   "metadata": {
    "collapsed": false,
    "pycharm": {
     "name": "#%%\n"
    }
   }
  },
  {
   "cell_type": "markdown",
   "source": [
    "##### Для массива целых случайных чисел"
   ],
   "metadata": {
    "collapsed": false
   }
  },
  {
   "cell_type": "code",
   "execution_count": 79,
   "outputs": [
    {
     "name": "stdout",
     "output_type": "stream",
     "text": [
      "Среднее:  50.606\n",
      "Минимум:  0\n",
      "Максимум:  99\n",
      "Медиана:  53.0\n",
      "Дисперсия:  806.1187639999999\n",
      "Отклонение:  28.39223069785113\n",
      "Перцентили:  [21. 41. 61. 71. 89.]\n"
     ]
    }
   ],
   "source": [
    "a = np.random.randint(100, size = (500))\n",
    "fun(a)\n"
   ],
   "metadata": {
    "collapsed": false,
    "pycharm": {
     "name": "#%%\n"
    }
   }
  },
  {
   "cell_type": "markdown",
   "source": [
    "##### Для массив дробных случайных чисел"
   ],
   "metadata": {
    "collapsed": false
   }
  },
  {
   "cell_type": "code",
   "execution_count": 80,
   "outputs": [
    {
     "name": "stdout",
     "output_type": "stream",
     "text": [
      "Среднее:  51.08459407954247\n",
      "Минимум:  0.44803354803217843\n",
      "Максимум:  99.89132447669655\n",
      "Медиана:  50.10776391541293\n",
      "Дисперсия:  806.0326901427937\n",
      "Отклонение:  28.390714857903696\n",
      "Перцентили:  [20.88424035 42.61432607 60.97103301 71.61100283 90.35104957]\n"
     ]
    }
   ],
   "source": [
    "b = np.random.uniform(0.0, 100.0, size = 500)\n",
    "fun(b)"
   ],
   "metadata": {
    "collapsed": false,
    "pycharm": {
     "name": "#%%\n"
    }
   }
  },
  {
   "cell_type": "markdown",
   "source": [
    "#### Ответ на вопрос:\n",
    "\n",
    "##### В частности, значения (дисперсия, перцентиль, etc) двух выборок будут отличаться друг от друга, но не более чем на проценты. Это происходит из-за того, что обе выборки были взяты из одного интервала с равномерным распределением.\n",
    "\n",
    "\n"
   ],
   "metadata": {
    "collapsed": false,
    "pycharm": {
     "name": "#%% md\n"
    }
   }
  }
 ],
 "metadata": {
  "kernelspec": {
   "display_name": "Python 3",
   "language": "python",
   "name": "python3"
  },
  "language_info": {
   "codemirror_mode": {
    "name": "ipython",
    "version": 3
   },
   "file_extension": ".py",
   "mimetype": "text/x-python",
   "name": "python",
   "nbconvert_exporter": "python",
   "pygments_lexer": "ipython3",
   "version": "3.8.5"
  }
 },
 "nbformat": 4,
 "nbformat_minor": 4
}