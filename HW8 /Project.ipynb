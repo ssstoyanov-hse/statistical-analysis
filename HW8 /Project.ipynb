{
 "cells": [
  {
   "cell_type": "code",
   "execution_count": 3,
   "metadata": {},
   "outputs": [],
   "source": [
    "import pandas as pd"
   ]
  },
  {
   "cell_type": "code",
   "execution_count": 4,
   "metadata": {},
   "outputs": [],
   "source": [
    "data = pd.read_csv('data/xdata.csv', ';')"
   ]
  },
  {
   "cell_type": "code",
   "execution_count": 5,
   "metadata": {},
   "outputs": [
    {
     "data": {
      "text/plain": "             Timestamp  610FI001.DACA.PV  610FI005.DACA.PV  610FI015.DACA.PV  \\\n0  2018-09-28 20:00:00       6767.059487       3915.980352       6488.320318   \n1  2018-09-29 08:00:00       6765.877464       1327.084508       6491.123816   \n2  2018-09-29 20:15:00       6770.346529       6255.144424       6486.659397   \n3  2018-09-30 08:00:00       6775.414762        274.236670       6501.651024   \n4  2018-09-30 20:00:00       6775.592058       2045.991153       6516.385240   \n\n   610FI017A.PV  610FI017B.PV  610FI017C.PV   610FI020.PV  610FI023A.PV  \\\n0   7378.070513   7401.434551   7368.363223  235425.40625  37094.747564   \n1   7378.806800   7398.244902   7363.662715  235425.40625  36857.208869   \n2   7379.145501   7398.580645   7364.334297  235425.40625  37815.427267   \n3   7378.688996   7426.280020   7392.369297  235425.40625  37709.016759   \n4   7377.996880   7382.128965   7347.546758  235425.40625  38053.489369   \n\n   610FI023B.PV  ...      Param1      Param2       Param3     Param4  \\\n0  41896.374375  ...  102.480702  999.576371  1002.109174  11.380535   \n1  42294.850312  ...  102.480702  999.576371  1002.109174  11.380908   \n2  42395.268750  ...  102.480702  999.576371  1002.109174  11.377843   \n3  43039.450156  ...  102.480702  999.576371  1002.109174  11.378230   \n4  42279.893906  ...  102.480702  999.576371  1002.109174  11.380795   \n\n      Param5     Param6  Param7     Param8     Param9  Param10  \n0  10.892793  77.732925     0.0  51.094552  48.905448      0.0  \n1  10.889553  77.736564     0.0  51.094552  48.905448      0.0  \n2  10.888383  77.734026     0.0  51.094552  48.905448      0.0  \n3  10.891634  77.726824     0.0  51.094552  48.905448      0.0  \n4  10.888861  77.726054     0.0  51.094552  48.905448      0.0  \n\n[5 rows x 696 columns]",
      "text/html": "<div>\n<style scoped>\n    .dataframe tbody tr th:only-of-type {\n        vertical-align: middle;\n    }\n\n    .dataframe tbody tr th {\n        vertical-align: top;\n    }\n\n    .dataframe thead th {\n        text-align: right;\n    }\n</style>\n<table border=\"1\" class=\"dataframe\">\n  <thead>\n    <tr style=\"text-align: right;\">\n      <th></th>\n      <th>Timestamp</th>\n      <th>610FI001.DACA.PV</th>\n      <th>610FI005.DACA.PV</th>\n      <th>610FI015.DACA.PV</th>\n      <th>610FI017A.PV</th>\n      <th>610FI017B.PV</th>\n      <th>610FI017C.PV</th>\n      <th>610FI020.PV</th>\n      <th>610FI023A.PV</th>\n      <th>610FI023B.PV</th>\n      <th>...</th>\n      <th>Param1</th>\n      <th>Param2</th>\n      <th>Param3</th>\n      <th>Param4</th>\n      <th>Param5</th>\n      <th>Param6</th>\n      <th>Param7</th>\n      <th>Param8</th>\n      <th>Param9</th>\n      <th>Param10</th>\n    </tr>\n  </thead>\n  <tbody>\n    <tr>\n      <th>0</th>\n      <td>2018-09-28 20:00:00</td>\n      <td>6767.059487</td>\n      <td>3915.980352</td>\n      <td>6488.320318</td>\n      <td>7378.070513</td>\n      <td>7401.434551</td>\n      <td>7368.363223</td>\n      <td>235425.40625</td>\n      <td>37094.747564</td>\n      <td>41896.374375</td>\n      <td>...</td>\n      <td>102.480702</td>\n      <td>999.576371</td>\n      <td>1002.109174</td>\n      <td>11.380535</td>\n      <td>10.892793</td>\n      <td>77.732925</td>\n      <td>0.0</td>\n      <td>51.094552</td>\n      <td>48.905448</td>\n      <td>0.0</td>\n    </tr>\n    <tr>\n      <th>1</th>\n      <td>2018-09-29 08:00:00</td>\n      <td>6765.877464</td>\n      <td>1327.084508</td>\n      <td>6491.123816</td>\n      <td>7378.806800</td>\n      <td>7398.244902</td>\n      <td>7363.662715</td>\n      <td>235425.40625</td>\n      <td>36857.208869</td>\n      <td>42294.850312</td>\n      <td>...</td>\n      <td>102.480702</td>\n      <td>999.576371</td>\n      <td>1002.109174</td>\n      <td>11.380908</td>\n      <td>10.889553</td>\n      <td>77.736564</td>\n      <td>0.0</td>\n      <td>51.094552</td>\n      <td>48.905448</td>\n      <td>0.0</td>\n    </tr>\n    <tr>\n      <th>2</th>\n      <td>2018-09-29 20:15:00</td>\n      <td>6770.346529</td>\n      <td>6255.144424</td>\n      <td>6486.659397</td>\n      <td>7379.145501</td>\n      <td>7398.580645</td>\n      <td>7364.334297</td>\n      <td>235425.40625</td>\n      <td>37815.427267</td>\n      <td>42395.268750</td>\n      <td>...</td>\n      <td>102.480702</td>\n      <td>999.576371</td>\n      <td>1002.109174</td>\n      <td>11.377843</td>\n      <td>10.888383</td>\n      <td>77.734026</td>\n      <td>0.0</td>\n      <td>51.094552</td>\n      <td>48.905448</td>\n      <td>0.0</td>\n    </tr>\n    <tr>\n      <th>3</th>\n      <td>2018-09-30 08:00:00</td>\n      <td>6775.414762</td>\n      <td>274.236670</td>\n      <td>6501.651024</td>\n      <td>7378.688996</td>\n      <td>7426.280020</td>\n      <td>7392.369297</td>\n      <td>235425.40625</td>\n      <td>37709.016759</td>\n      <td>43039.450156</td>\n      <td>...</td>\n      <td>102.480702</td>\n      <td>999.576371</td>\n      <td>1002.109174</td>\n      <td>11.378230</td>\n      <td>10.891634</td>\n      <td>77.726824</td>\n      <td>0.0</td>\n      <td>51.094552</td>\n      <td>48.905448</td>\n      <td>0.0</td>\n    </tr>\n    <tr>\n      <th>4</th>\n      <td>2018-09-30 20:00:00</td>\n      <td>6775.592058</td>\n      <td>2045.991153</td>\n      <td>6516.385240</td>\n      <td>7377.996880</td>\n      <td>7382.128965</td>\n      <td>7347.546758</td>\n      <td>235425.40625</td>\n      <td>38053.489369</td>\n      <td>42279.893906</td>\n      <td>...</td>\n      <td>102.480702</td>\n      <td>999.576371</td>\n      <td>1002.109174</td>\n      <td>11.380795</td>\n      <td>10.888861</td>\n      <td>77.726054</td>\n      <td>0.0</td>\n      <td>51.094552</td>\n      <td>48.905448</td>\n      <td>0.0</td>\n    </tr>\n  </tbody>\n</table>\n<p>5 rows × 696 columns</p>\n</div>"
     },
     "execution_count": 5,
     "metadata": {},
     "output_type": "execute_result"
    }
   ],
   "source": [
    "data.head()"
   ]
  },
  {
   "cell_type": "code",
   "execution_count": 6,
   "metadata": {},
   "outputs": [],
   "source": [
    "params = data.iloc[:, -10:]\n",
    "data = data.iloc[:, 7 * 10: 8 * 10]"
   ]
  },
  {
   "cell_type": "markdown",
   "metadata": {},
   "source": [
    "### Посмотрим пропущенные значения"
   ]
  },
  {
   "cell_type": "code",
   "execution_count": 7,
   "metadata": {},
   "outputs": [],
   "source": [
    "cols_with_missing = [col for col in data.columns\n",
    "                     if data[col].isnull().any()]\n"
   ]
  },
  {
   "cell_type": "code",
   "execution_count": 8,
   "metadata": {},
   "outputs": [
    {
     "data": {
      "text/plain": "[]"
     },
     "execution_count": 8,
     "metadata": {},
     "output_type": "execute_result"
    }
   ],
   "source": [
    "cols_with_missing"
   ]
  },
  {
   "cell_type": "markdown",
   "metadata": {},
   "source": [
    "##### Таких значений нет"
   ]
  },
  {
   "cell_type": "markdown",
   "metadata": {},
   "source": [
    "### Посмотрим среднее значение по столбцам и дисперсию"
   ]
  },
  {
   "cell_type": "code",
   "execution_count": 9,
   "metadata": {},
   "outputs": [
    {
     "name": "stdout",
     "output_type": "stream",
     "text": [
      "10\n"
     ]
    },
    {
     "data": {
      "text/plain": "10"
     },
     "execution_count": 9,
     "metadata": {},
     "output_type": "execute_result"
    }
   ],
   "source": [
    "import matplotlib.pyplot as plt\n",
    "print(data.shape[1])\n",
    "len(data.mean(axis=0))"
   ]
  },
  {
   "cell_type": "code",
   "execution_count": 10,
   "metadata": {},
   "outputs": [
    {
     "data": {
      "text/plain": "<Figure size 504x360 with 1 Axes>",
      "image/png": "[encoded data removed]"
     },
     "metadata": {
      "needs_background": "light"
     },
     "output_type": "display_data"
    }
   ],
   "source": [
    "\n",
    "fig, axs = plt.subplots(figsize = (7, 5))\n",
    "plt.bar(range(data.shape[1]), data.mean(axis=0), color = 'blue', label = 'mean')\n",
    "plt.bar(range(data.shape[1]), data.std(axis=0), color = 'orange', label = 'std')\n",
    "axs.legend()\n",
    "axs.set_ylim([0,40000])\n",
    "\n",
    "plt.show()"
   ]
  },
  {
   "cell_type": "code",
   "execution_count": 11,
   "metadata": {},
   "outputs": [
    {
     "data": {
      "text/plain": "['610FI501A.DACA.PV',\n '610FI501B.DACA.PV',\n '610FI502A.DACA.PV',\n '610FI502B.DACA.PV']"
     },
     "execution_count": 11,
     "metadata": {},
     "output_type": "execute_result"
    }
   ],
   "source": [
    "cols_with_zeroes = [col for col in data.columns\n",
    "                     if data[col].mean() == 0 and data[col].sum() == 0]\n",
    "cols_with_zeroes # колонки с нулями, можно их удалить"
   ]
  },
  {
   "cell_type": "code",
   "execution_count": 12,
   "metadata": {},
   "outputs": [
    {
     "data": {
      "text/plain": "4"
     },
     "execution_count": 12,
     "metadata": {},
     "output_type": "execute_result"
    }
   ],
   "source": [
    "len(cols_with_zeroes) "
   ]
  },
  {
   "cell_type": "code",
   "execution_count": 13,
   "metadata": {},
   "outputs": [],
   "source": [
    "data = data.drop(cols_with_zeroes, axis = 1)"
   ]
  },
  {
   "cell_type": "code",
   "execution_count": 14,
   "metadata": {
    "scrolled": true
   },
   "outputs": [
    {
     "ename": "NameError",
     "evalue": "name 'coloumn' is not defined",
     "output_type": "error",
     "traceback": [
      "\u001B[0;31m---------------------------------------------------------------------------\u001B[0m",
      "\u001B[0;31mNameError\u001B[0m                                 Traceback (most recent call last)",
      "\u001B[0;32m<ipython-input-14-bf5ae6c50f12>\u001B[0m in \u001B[0;36m<module>\u001B[0;34m\u001B[0m\n\u001B[1;32m      4\u001B[0m \u001B[0;34m\u001B[0m\u001B[0m\n\u001B[1;32m      5\u001B[0m \u001B[0mfig\u001B[0m\u001B[0;34m,\u001B[0m \u001B[0maxs\u001B[0m \u001B[0;34m=\u001B[0m \u001B[0mplt\u001B[0m\u001B[0;34m.\u001B[0m\u001B[0msubplots\u001B[0m\u001B[0;34m(\u001B[0m\u001B[0mfigsize\u001B[0m \u001B[0;34m=\u001B[0m \u001B[0;34m(\u001B[0m\u001B[0;36m7\u001B[0m\u001B[0;34m,\u001B[0m \u001B[0;36m5\u001B[0m\u001B[0;34m)\u001B[0m\u001B[0;34m)\u001B[0m\u001B[0;34m\u001B[0m\u001B[0;34m\u001B[0m\u001B[0m\n\u001B[0;32m----> 6\u001B[0;31m \u001B[0mplt\u001B[0m\u001B[0;34m.\u001B[0m\u001B[0mplot\u001B[0m\u001B[0;34m(\u001B[0m\u001B[0mrange\u001B[0m\u001B[0;34m(\u001B[0m\u001B[0mlen\u001B[0m\u001B[0;34m(\u001B[0m\u001B[0mdata\u001B[0m\u001B[0;34m.\u001B[0m\u001B[0mmean\u001B[0m\u001B[0;34m(\u001B[0m\u001B[0;34m)\u001B[0m\u001B[0;34m)\u001B[0m\u001B[0;34m)\u001B[0m\u001B[0;34m,\u001B[0m \u001B[0mdata\u001B[0m\u001B[0;34m.\u001B[0m\u001B[0mmean\u001B[0m\u001B[0;34m(\u001B[0m\u001B[0;34m)\u001B[0m\u001B[0;34m,\u001B[0m \u001B[0mcolor\u001B[0m \u001B[0;34m=\u001B[0m \u001B[0;34m'blue'\u001B[0m\u001B[0;34m,\u001B[0m \u001B[0mlabel\u001B[0m \u001B[0;34m=\u001B[0m \u001B[0mcoloumn\u001B[0m\u001B[0;34m)\u001B[0m\u001B[0;34m\u001B[0m\u001B[0;34m\u001B[0m\u001B[0m\n\u001B[0m\u001B[1;32m      7\u001B[0m \u001B[0;34m\u001B[0m\u001B[0m\n\u001B[1;32m      8\u001B[0m \u001B[0maxs\u001B[0m\u001B[0;34m.\u001B[0m\u001B[0mlegend\u001B[0m\u001B[0;34m(\u001B[0m\u001B[0;34m)\u001B[0m\u001B[0;34m\u001B[0m\u001B[0;34m\u001B[0m\u001B[0m\n",
      "\u001B[0;31mNameError\u001B[0m: name 'coloumn' is not defined"
     ]
    },
    {
     "data": {
      "text/plain": "<Figure size 504x360 with 1 Axes>",
      "image/png": "[encoded data removed]"
     },
     "metadata": {
      "needs_background": "light"
     },
     "output_type": "display_data"
    }
   ],
   "source": [
    "import numpy as np\n",
    "import scipy.stats as stats\n",
    "\n",
    "\n",
    "fig, axs = plt.subplots(figsize = (7, 5))\n",
    "plt.plot(range(len(data.mean())), data.mean(), color = 'blue', label = coloumn)\n",
    "\n",
    "axs.legend()\n",
    "\n",
    "\n",
    "plt.show()\n",
    "\n",
    "\n",
    "#  средние значения по колонкам"
   ]
  },
  {
   "cell_type": "markdown",
   "metadata": {},
   "source": [
    "### Посмотрим на каждую колонку по отдельности"
   ]
  },
  {
   "cell_type": "code",
   "execution_count": null,
   "metadata": {},
   "outputs": [],
   "source": [
    "for coloumn in data.columns:\n",
    "    fig, axs = plt.subplots(figsize = (7, 5))\n",
    "    plt.scatter(range(data.shape[0]), data[coloumn], color = 'blue', label = coloumn)\n",
    "    plt.plot(data[coloumn].rolling(window=70).mean(), color = 'orange', label = 'exponential wighted averages')\n",
    "    axs.legend()\n",
    "#     axs.set_ylim([0,40000])\n",
    "\n",
    "    plt.show()"
   ]
  },
  {
   "cell_type": "markdown",
   "metadata": {},
   "source": [
    "``` Данные достаточно шумные, но экспоненциальное срдневзвешенное показывает общий тренд ```"
   ]
  },
  {
   "cell_type": "markdown",
   "metadata": {},
   "source": [
    "### Теперь посмотрим на корреляцию столбцов"
   ]
  },
  {
   "cell_type": "code",
   "execution_count": null,
   "metadata": {},
   "outputs": [],
   "source": [
    "f = plt.figure(figsize=(7, 7))\n",
    "plt.matshow(data.corr(), fignum=f.number)\n",
    "plt.xticks(range(data.shape[1]), data.columns, fontsize=14, rotation=80)\n",
    "plt.yticks(range(data.shape[1]), data.columns, fontsize=14)\n",
    "cb = plt.colorbar()\n",
    "cb.ax.tick_params(labelsize=14)\n",
    "plt.title('Correlation Matrix', fontsize=16);"
   ]
  },
  {
   "cell_type": "markdown",
   "metadata": {},
   "source": [
    "```Заметим, что парные признаки очень сильно коррелируют```"
   ]
  },
  {
   "cell_type": "markdown",
   "metadata": {},
   "source": [
    "### Общие сведения по таблице"
   ]
  },
  {
   "cell_type": "code",
   "execution_count": null,
   "metadata": {},
   "outputs": [],
   "source": [
    "data.describe()"
   ]
  },
  {
   "cell_type": "markdown",
   "metadata": {},
   "source": [
    "# Обучаем модель"
   ]
  },
  {
   "cell_type": "code",
   "execution_count": null,
   "metadata": {},
   "outputs": [],
   "source": [
    "target = pd.read_csv('ts.csv', ';')"
   ]
  },
  {
   "cell_type": "code",
   "execution_count": null,
   "metadata": {},
   "outputs": [],
   "source": [
    "target.head()"
   ]
  },
  {
   "cell_type": "code",
   "execution_count": null,
   "metadata": {},
   "outputs": [],
   "source": [
    "params"
   ]
  },
  {
   "cell_type": "markdown",
   "metadata": {},
   "source": [
    "### Также посмотрим на признаки"
   ]
  },
  {
   "cell_type": "code",
   "execution_count": null,
   "metadata": {},
   "outputs": [],
   "source": [
    "for coloumn in params.columns:\n",
    "    fig, axs = plt.subplots(figsize = (7, 5))\n",
    "    plt.scatter(range(params.shape[0]), params[coloumn], color = 'blue', label = coloumn)\n",
    "    plt.plot(params[coloumn].rolling(window=70).mean(), color = 'orange', label = 'exponential wighted averages')\n",
    "    axs.legend()\n",
    "#     axs.set_ylim([0,40000])\n",
    "\n",
    "    plt.show()"
   ]
  },
  {
   "cell_type": "markdown",
   "metadata": {},
   "source": [
    "``` Опять же, почти все параметры очень шумные ```"
   ]
  },
  {
   "cell_type": "markdown",
   "metadata": {},
   "source": [
    "### Взглянем на корреляцию"
   ]
  },
  {
   "cell_type": "code",
   "execution_count": null,
   "metadata": {},
   "outputs": [],
   "source": [
    "f = plt.figure(figsize=(7, 7))\n",
    "plt.matshow(params.corr(), fignum=f.number)\n",
    "plt.xticks(range(params.shape[1]), params.columns, fontsize=14, rotation=80)\n",
    "plt.yticks(range(params.shape[1]), params.columns, fontsize=14)\n",
    "cb = plt.colorbar()\n",
    "cb.ax.tick_params(labelsize=14)\n",
    "plt.title('Correlation Matrix', fontsize=16);"
   ]
  },
  {
   "cell_type": "markdown",
   "metadata": {},
   "source": [
    "```Признак 2 сильно коррелирует с 3, поэтому один из них можно удалить, также с признаками 4 и 5```\n"
   ]
  },
  {
   "cell_type": "code",
   "execution_count": null,
   "metadata": {},
   "outputs": [],
   "source": [
    "params.drop(['Param3', 'Param5'], axis = 1, inplace = True)"
   ]
  },
  {
   "cell_type": "markdown",
   "metadata": {},
   "source": [
    "#### Разделим данные на train и test"
   ]
  },
  {
   "cell_type": "code",
   "execution_count": null,
   "metadata": {},
   "outputs": [],
   "source": [
    "import sklearn.model_selection as sk\n",
    "X_train, X_test, y_train, y_test = sk.train_test_split(params, \\\n",
    "                                                      target['ts'] , test_size=0.3, random_state=42)"
   ]
  },
  {
   "cell_type": "markdown",
   "metadata": {},
   "source": [
    "### Обучим CatBoost со стандартными параметрами и кастомной метрикой MAE"
   ]
  },
  {
   "cell_type": "code",
   "execution_count": null,
   "metadata": {},
   "outputs": [],
   "source": [
    "from catboost import CatBoostRegressor"
   ]
  },
  {
   "cell_type": "code",
   "execution_count": null,
   "metadata": {},
   "outputs": [],
   "source": [
    "model = CatBoostRegressor(custom_metric= 'MAE')\n",
    "model.fit(\n",
    "   X_train, y_train,\n",
    "   eval_set=(X_test, y_test),\n",
    ")"
   ]
  }
 ],
 "metadata": {
  "kernelspec": {
   "display_name": "Python 3",
   "language": "python",
   "name": "python3"
  },
  "language_info": {
   "codemirror_mode": {
    "name": "ipython",
    "version": 3
   },
   "file_extension": ".py",
   "mimetype": "text/x-python",
   "name": "python",
   "nbconvert_exporter": "python",
   "pygments_lexer": "ipython3",
   "version": "3.7.6"
  }
 },
 "nbformat": 4,
 "nbformat_minor": 4
}